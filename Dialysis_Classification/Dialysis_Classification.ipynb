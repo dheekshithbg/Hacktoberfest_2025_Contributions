{
 "cells": [
  {
   "cell_type": "markdown",
   "metadata": {},
   "source": [
    "# CHRONIC KIDNEY CLASSIFICATION "
   ]
  },
  {
   "cell_type": "markdown",
   "metadata": {},
   "source": [
    "# Import Libraries"
   ]
  },
  {
   "cell_type": "code",
   "execution_count": 5,
   "metadata": {
    "_cell_guid": "b1076dfc-b9ad-4769-8c92-a6c4dae69d19",
    "_uuid": "8f2839f25d086af736a60e9eeb907d3b93b6e0e5",
    "execution": {
     "iopub.execute_input": "2025-07-29T07:09:58.633844Z",
     "iopub.status.busy": "2025-07-29T07:09:58.633516Z",
     "iopub.status.idle": "2025-07-29T07:09:58.639946Z",
     "shell.execute_reply": "2025-07-29T07:09:58.639053Z",
     "shell.execute_reply.started": "2025-07-29T07:09:58.633823Z"
    },
    "trusted": true
   },
   "outputs": [],
   "source": [
    "import numpy as np \n",
    "import pandas as pd \n",
    "import seaborn as sns \n",
    "import matplotlib.pyplot as plt \n",
    "from sklearn.model_selection import train_test_split\n",
    "from sklearn.preprocessing import StandardScaler\n",
    "from sklearn.tree import DecisionTreeClassifier\n",
    "from sklearn.metrics import (\n",
    "    accuracy_score,\n",
    "    precision_score,\n",
    "    recall_score,\n",
    "    f1_score,\n",
    "    confusion_matrix,\n",
    "    classification_report,\n",
    "    roc_auc_score,\n",
    "    roc_curve\n",
    ")"
   ]
  },
  {
   "cell_type": "markdown",
   "metadata": {},
   "source": [
    "# Load Data "
   ]
  },
  {
   "cell_type": "code",
   "execution_count": 6,
   "metadata": {
    "execution": {
     "iopub.execute_input": "2025-07-29T07:09:58.645641Z",
     "iopub.status.busy": "2025-07-29T07:09:58.645370Z",
     "iopub.status.idle": "2025-07-29T07:09:58.677325Z",
     "shell.execute_reply": "2025-07-29T07:09:58.676115Z",
     "shell.execute_reply.started": "2025-07-29T07:09:58.645621Z"
    },
    "trusted": true
   },
   "outputs": [
    {
     "data": {
      "text/html": [
       "<div>\n",
       "<style scoped>\n",
       "    .dataframe tbody tr th:only-of-type {\n",
       "        vertical-align: middle;\n",
       "    }\n",
       "\n",
       "    .dataframe tbody tr th {\n",
       "        vertical-align: top;\n",
       "    }\n",
       "\n",
       "    .dataframe thead th {\n",
       "        text-align: right;\n",
       "    }\n",
       "</style>\n",
       "<table border=\"1\" class=\"dataframe\">\n",
       "  <thead>\n",
       "    <tr style=\"text-align: right;\">\n",
       "      <th></th>\n",
       "      <th>Age</th>\n",
       "      <th>Creatinine_Level</th>\n",
       "      <th>BUN</th>\n",
       "      <th>Diabetes</th>\n",
       "      <th>Hypertension</th>\n",
       "      <th>GFR</th>\n",
       "      <th>Urine_Output</th>\n",
       "      <th>CKD_Status</th>\n",
       "      <th>Dialysis_Needed</th>\n",
       "    </tr>\n",
       "  </thead>\n",
       "  <tbody>\n",
       "    <tr>\n",
       "      <th>0</th>\n",
       "      <td>71</td>\n",
       "      <td>0.30</td>\n",
       "      <td>40.9</td>\n",
       "      <td>0</td>\n",
       "      <td>1</td>\n",
       "      <td>46.8</td>\n",
       "      <td>1622.0</td>\n",
       "      <td>1</td>\n",
       "      <td>0</td>\n",
       "    </tr>\n",
       "    <tr>\n",
       "      <th>1</th>\n",
       "      <td>34</td>\n",
       "      <td>1.79</td>\n",
       "      <td>17.1</td>\n",
       "      <td>0</td>\n",
       "      <td>0</td>\n",
       "      <td>43.8</td>\n",
       "      <td>1428.0</td>\n",
       "      <td>1</td>\n",
       "      <td>0</td>\n",
       "    </tr>\n",
       "    <tr>\n",
       "      <th>2</th>\n",
       "      <td>80</td>\n",
       "      <td>2.67</td>\n",
       "      <td>15.0</td>\n",
       "      <td>0</td>\n",
       "      <td>1</td>\n",
       "      <td>78.2</td>\n",
       "      <td>1015.0</td>\n",
       "      <td>1</td>\n",
       "      <td>0</td>\n",
       "    </tr>\n",
       "    <tr>\n",
       "      <th>3</th>\n",
       "      <td>40</td>\n",
       "      <td>0.97</td>\n",
       "      <td>31.1</td>\n",
       "      <td>0</td>\n",
       "      <td>1</td>\n",
       "      <td>92.8</td>\n",
       "      <td>1276.0</td>\n",
       "      <td>1</td>\n",
       "      <td>0</td>\n",
       "    </tr>\n",
       "    <tr>\n",
       "      <th>4</th>\n",
       "      <td>43</td>\n",
       "      <td>2.05</td>\n",
       "      <td>22.8</td>\n",
       "      <td>1</td>\n",
       "      <td>1</td>\n",
       "      <td>62.2</td>\n",
       "      <td>1154.0</td>\n",
       "      <td>0</td>\n",
       "      <td>0</td>\n",
       "    </tr>\n",
       "  </tbody>\n",
       "</table>\n",
       "</div>"
      ],
      "text/plain": [
       "   Age  Creatinine_Level   BUN  Diabetes  Hypertension   GFR  Urine_Output  \\\n",
       "0   71              0.30  40.9         0             1  46.8        1622.0   \n",
       "1   34              1.79  17.1         0             0  43.8        1428.0   \n",
       "2   80              2.67  15.0         0             1  78.2        1015.0   \n",
       "3   40              0.97  31.1         0             1  92.8        1276.0   \n",
       "4   43              2.05  22.8         1             1  62.2        1154.0   \n",
       "\n",
       "   CKD_Status  Dialysis_Needed  \n",
       "0           1                0  \n",
       "1           1                0  \n",
       "2           1                0  \n",
       "3           1                0  \n",
       "4           0                0  "
      ]
     },
     "execution_count": 6,
     "metadata": {},
     "output_type": "execute_result"
    }
   ],
   "source": [
    "df = pd.read_csv('kidney_disease_dataset.csv')\n",
    "df.head()"
   ]
  },
  {
   "cell_type": "markdown",
   "metadata": {},
   "source": [
    "# Data Analysis \n"
   ]
  },
  {
   "cell_type": "code",
   "execution_count": 7,
   "metadata": {
    "execution": {
     "iopub.execute_input": "2025-07-29T07:09:58.679508Z",
     "iopub.status.busy": "2025-07-29T07:09:58.679204Z",
     "iopub.status.idle": "2025-07-29T07:09:58.685605Z",
     "shell.execute_reply": "2025-07-29T07:09:58.684782Z",
     "shell.execute_reply.started": "2025-07-29T07:09:58.679488Z"
    },
    "trusted": true
   },
   "outputs": [
    {
     "data": {
      "text/plain": [
       "(2304, 9)"
      ]
     },
     "execution_count": 7,
     "metadata": {},
     "output_type": "execute_result"
    }
   ],
   "source": [
    "df.shape"
   ]
  },
  {
   "cell_type": "code",
   "execution_count": 8,
   "metadata": {
    "execution": {
     "iopub.execute_input": "2025-07-29T07:09:58.687001Z",
     "iopub.status.busy": "2025-07-29T07:09:58.686651Z",
     "iopub.status.idle": "2025-07-29T07:09:58.712091Z",
     "shell.execute_reply": "2025-07-29T07:09:58.711099Z",
     "shell.execute_reply.started": "2025-07-29T07:09:58.686979Z"
    },
    "trusted": true
   },
   "outputs": [
    {
     "data": {
      "text/plain": [
       "Age                   int64\n",
       "Creatinine_Level    float64\n",
       "BUN                 float64\n",
       "Diabetes              int64\n",
       "Hypertension          int64\n",
       "GFR                 float64\n",
       "Urine_Output        float64\n",
       "CKD_Status            int64\n",
       "Dialysis_Needed       int64\n",
       "dtype: object"
      ]
     },
     "execution_count": 8,
     "metadata": {},
     "output_type": "execute_result"
    }
   ],
   "source": [
    "df.dtypes"
   ]
  },
  {
   "cell_type": "code",
   "execution_count": 9,
   "metadata": {
    "execution": {
     "iopub.execute_input": "2025-07-29T07:09:58.714410Z",
     "iopub.status.busy": "2025-07-29T07:09:58.714124Z",
     "iopub.status.idle": "2025-07-29T07:09:58.737271Z",
     "shell.execute_reply": "2025-07-29T07:09:58.736145Z",
     "shell.execute_reply.started": "2025-07-29T07:09:58.714367Z"
    },
    "trusted": true
   },
   "outputs": [
    {
     "data": {
      "text/plain": [
       "Age                 0\n",
       "Creatinine_Level    0\n",
       "BUN                 0\n",
       "Diabetes            0\n",
       "Hypertension        0\n",
       "GFR                 0\n",
       "Urine_Output        0\n",
       "CKD_Status          0\n",
       "Dialysis_Needed     0\n",
       "dtype: int64"
      ]
     },
     "execution_count": 9,
     "metadata": {},
     "output_type": "execute_result"
    }
   ],
   "source": [
    "df.isnull().sum()"
   ]
  },
  {
   "cell_type": "code",
   "execution_count": 10,
   "metadata": {
    "execution": {
     "iopub.execute_input": "2025-07-29T07:09:58.738795Z",
     "iopub.status.busy": "2025-07-29T07:09:58.738492Z",
     "iopub.status.idle": "2025-07-29T07:09:58.763236Z",
     "shell.execute_reply": "2025-07-29T07:09:58.762184Z",
     "shell.execute_reply.started": "2025-07-29T07:09:58.738774Z"
    },
    "trusted": true
   },
   "outputs": [
    {
     "name": "stdout",
     "output_type": "stream",
     "text": [
      "<class 'pandas.core.frame.DataFrame'>\n",
      "RangeIndex: 2304 entries, 0 to 2303\n",
      "Data columns (total 9 columns):\n",
      " #   Column            Non-Null Count  Dtype  \n",
      "---  ------            --------------  -----  \n",
      " 0   Age               2304 non-null   int64  \n",
      " 1   Creatinine_Level  2304 non-null   float64\n",
      " 2   BUN               2304 non-null   float64\n",
      " 3   Diabetes          2304 non-null   int64  \n",
      " 4   Hypertension      2304 non-null   int64  \n",
      " 5   GFR               2304 non-null   float64\n",
      " 6   Urine_Output      2304 non-null   float64\n",
      " 7   CKD_Status        2304 non-null   int64  \n",
      " 8   Dialysis_Needed   2304 non-null   int64  \n",
      "dtypes: float64(4), int64(5)\n",
      "memory usage: 162.1 KB\n"
     ]
    }
   ],
   "source": [
    "df.info()"
   ]
  },
  {
   "cell_type": "code",
   "execution_count": 11,
   "metadata": {
    "execution": {
     "iopub.execute_input": "2025-07-29T07:09:58.764627Z",
     "iopub.status.busy": "2025-07-29T07:09:58.764358Z",
     "iopub.status.idle": "2025-07-29T07:09:58.812384Z",
     "shell.execute_reply": "2025-07-29T07:09:58.811607Z",
     "shell.execute_reply.started": "2025-07-29T07:09:58.764604Z"
    },
    "trusted": true
   },
   "outputs": [
    {
     "data": {
      "text/html": [
       "<div>\n",
       "<style scoped>\n",
       "    .dataframe tbody tr th:only-of-type {\n",
       "        vertical-align: middle;\n",
       "    }\n",
       "\n",
       "    .dataframe tbody tr th {\n",
       "        vertical-align: top;\n",
       "    }\n",
       "\n",
       "    .dataframe thead th {\n",
       "        text-align: right;\n",
       "    }\n",
       "</style>\n",
       "<table border=\"1\" class=\"dataframe\">\n",
       "  <thead>\n",
       "    <tr style=\"text-align: right;\">\n",
       "      <th></th>\n",
       "      <th>Age</th>\n",
       "      <th>Creatinine_Level</th>\n",
       "      <th>BUN</th>\n",
       "      <th>Diabetes</th>\n",
       "      <th>Hypertension</th>\n",
       "      <th>GFR</th>\n",
       "      <th>Urine_Output</th>\n",
       "      <th>CKD_Status</th>\n",
       "      <th>Dialysis_Needed</th>\n",
       "    </tr>\n",
       "  </thead>\n",
       "  <tbody>\n",
       "    <tr>\n",
       "      <th>count</th>\n",
       "      <td>2304.000000</td>\n",
       "      <td>2304.000000</td>\n",
       "      <td>2304.000000</td>\n",
       "      <td>2304.000000</td>\n",
       "      <td>2304.000000</td>\n",
       "      <td>2304.000000</td>\n",
       "      <td>2304.000000</td>\n",
       "      <td>2304.000000</td>\n",
       "      <td>2304.000000</td>\n",
       "    </tr>\n",
       "    <tr>\n",
       "      <th>mean</th>\n",
       "      <td>54.159288</td>\n",
       "      <td>1.305638</td>\n",
       "      <td>18.813672</td>\n",
       "      <td>0.406684</td>\n",
       "      <td>0.498264</td>\n",
       "      <td>68.953863</td>\n",
       "      <td>1309.189670</td>\n",
       "      <td>0.508681</td>\n",
       "      <td>0.013455</td>\n",
       "    </tr>\n",
       "    <tr>\n",
       "      <th>std</th>\n",
       "      <td>20.513729</td>\n",
       "      <td>0.789594</td>\n",
       "      <td>10.508358</td>\n",
       "      <td>0.491322</td>\n",
       "      <td>0.500106</td>\n",
       "      <td>24.660191</td>\n",
       "      <td>491.951914</td>\n",
       "      <td>0.500033</td>\n",
       "      <td>0.115237</td>\n",
       "    </tr>\n",
       "    <tr>\n",
       "      <th>min</th>\n",
       "      <td>20.000000</td>\n",
       "      <td>0.300000</td>\n",
       "      <td>5.000000</td>\n",
       "      <td>0.000000</td>\n",
       "      <td>0.000000</td>\n",
       "      <td>5.000000</td>\n",
       "      <td>100.000000</td>\n",
       "      <td>0.000000</td>\n",
       "      <td>0.000000</td>\n",
       "    </tr>\n",
       "    <tr>\n",
       "      <th>25%</th>\n",
       "      <td>36.000000</td>\n",
       "      <td>0.620000</td>\n",
       "      <td>9.975000</td>\n",
       "      <td>0.000000</td>\n",
       "      <td>0.000000</td>\n",
       "      <td>51.300000</td>\n",
       "      <td>967.750000</td>\n",
       "      <td>0.000000</td>\n",
       "      <td>0.000000</td>\n",
       "    </tr>\n",
       "    <tr>\n",
       "      <th>50%</th>\n",
       "      <td>54.000000</td>\n",
       "      <td>1.240000</td>\n",
       "      <td>18.200000</td>\n",
       "      <td>0.000000</td>\n",
       "      <td>0.000000</td>\n",
       "      <td>69.150000</td>\n",
       "      <td>1295.500000</td>\n",
       "      <td>1.000000</td>\n",
       "      <td>0.000000</td>\n",
       "    </tr>\n",
       "    <tr>\n",
       "      <th>75%</th>\n",
       "      <td>72.000000</td>\n",
       "      <td>1.842500</td>\n",
       "      <td>26.000000</td>\n",
       "      <td>1.000000</td>\n",
       "      <td>1.000000</td>\n",
       "      <td>86.300000</td>\n",
       "      <td>1633.500000</td>\n",
       "      <td>1.000000</td>\n",
       "      <td>0.000000</td>\n",
       "    </tr>\n",
       "    <tr>\n",
       "      <th>max</th>\n",
       "      <td>90.000000</td>\n",
       "      <td>4.130000</td>\n",
       "      <td>61.900000</td>\n",
       "      <td>1.000000</td>\n",
       "      <td>1.000000</td>\n",
       "      <td>120.000000</td>\n",
       "      <td>2899.000000</td>\n",
       "      <td>1.000000</td>\n",
       "      <td>1.000000</td>\n",
       "    </tr>\n",
       "  </tbody>\n",
       "</table>\n",
       "</div>"
      ],
      "text/plain": [
       "               Age  Creatinine_Level          BUN     Diabetes  Hypertension  \\\n",
       "count  2304.000000       2304.000000  2304.000000  2304.000000   2304.000000   \n",
       "mean     54.159288          1.305638    18.813672     0.406684      0.498264   \n",
       "std      20.513729          0.789594    10.508358     0.491322      0.500106   \n",
       "min      20.000000          0.300000     5.000000     0.000000      0.000000   \n",
       "25%      36.000000          0.620000     9.975000     0.000000      0.000000   \n",
       "50%      54.000000          1.240000    18.200000     0.000000      0.000000   \n",
       "75%      72.000000          1.842500    26.000000     1.000000      1.000000   \n",
       "max      90.000000          4.130000    61.900000     1.000000      1.000000   \n",
       "\n",
       "               GFR  Urine_Output   CKD_Status  Dialysis_Needed  \n",
       "count  2304.000000   2304.000000  2304.000000      2304.000000  \n",
       "mean     68.953863   1309.189670     0.508681         0.013455  \n",
       "std      24.660191    491.951914     0.500033         0.115237  \n",
       "min       5.000000    100.000000     0.000000         0.000000  \n",
       "25%      51.300000    967.750000     0.000000         0.000000  \n",
       "50%      69.150000   1295.500000     1.000000         0.000000  \n",
       "75%      86.300000   1633.500000     1.000000         0.000000  \n",
       "max     120.000000   2899.000000     1.000000         1.000000  "
      ]
     },
     "execution_count": 11,
     "metadata": {},
     "output_type": "execute_result"
    }
   ],
   "source": [
    "df.describe()"
   ]
  },
  {
   "cell_type": "code",
   "execution_count": 12,
   "metadata": {
    "execution": {
     "iopub.execute_input": "2025-07-29T07:09:58.813923Z",
     "iopub.status.busy": "2025-07-29T07:09:58.813600Z",
     "iopub.status.idle": "2025-07-29T07:09:58.820632Z",
     "shell.execute_reply": "2025-07-29T07:09:58.819025Z",
     "shell.execute_reply.started": "2025-07-29T07:09:58.813869Z"
    },
    "trusted": true
   },
   "outputs": [
    {
     "data": {
      "text/plain": [
       "Index(['Age', 'Creatinine_Level', 'BUN', 'Diabetes', 'Hypertension', 'GFR',\n",
       "       'Urine_Output', 'CKD_Status', 'Dialysis_Needed'],\n",
       "      dtype='object')"
      ]
     },
     "execution_count": 12,
     "metadata": {},
     "output_type": "execute_result"
    }
   ],
   "source": [
    "df.columns"
   ]
  },
  {
   "cell_type": "code",
   "execution_count": 13,
   "metadata": {
    "execution": {
     "iopub.execute_input": "2025-07-29T07:09:58.823248Z",
     "iopub.status.busy": "2025-07-29T07:09:58.822116Z",
     "iopub.status.idle": "2025-07-29T07:09:58.848721Z",
     "shell.execute_reply": "2025-07-29T07:09:58.847682Z",
     "shell.execute_reply.started": "2025-07-29T07:09:58.823208Z"
    },
    "trusted": true
   },
   "outputs": [
    {
     "data": {
      "text/html": [
       "<div>\n",
       "<style scoped>\n",
       "    .dataframe tbody tr th:only-of-type {\n",
       "        vertical-align: middle;\n",
       "    }\n",
       "\n",
       "    .dataframe tbody tr th {\n",
       "        vertical-align: top;\n",
       "    }\n",
       "\n",
       "    .dataframe thead th {\n",
       "        text-align: right;\n",
       "    }\n",
       "</style>\n",
       "<table border=\"1\" class=\"dataframe\">\n",
       "  <thead>\n",
       "    <tr style=\"text-align: right;\">\n",
       "      <th></th>\n",
       "      <th>Age</th>\n",
       "      <th>Creatinine_Level</th>\n",
       "      <th>BUN</th>\n",
       "      <th>Diabetes</th>\n",
       "      <th>Hypertension</th>\n",
       "      <th>GFR</th>\n",
       "      <th>Urine_Output</th>\n",
       "      <th>CKD_Status</th>\n",
       "      <th>Dialysis_Needed</th>\n",
       "    </tr>\n",
       "  </thead>\n",
       "  <tbody>\n",
       "    <tr>\n",
       "      <th>0</th>\n",
       "      <td>71</td>\n",
       "      <td>0.30</td>\n",
       "      <td>40.9</td>\n",
       "      <td>0</td>\n",
       "      <td>1</td>\n",
       "      <td>46.8</td>\n",
       "      <td>1622.0</td>\n",
       "      <td>1</td>\n",
       "      <td>0</td>\n",
       "    </tr>\n",
       "    <tr>\n",
       "      <th>1</th>\n",
       "      <td>34</td>\n",
       "      <td>1.79</td>\n",
       "      <td>17.1</td>\n",
       "      <td>0</td>\n",
       "      <td>0</td>\n",
       "      <td>43.8</td>\n",
       "      <td>1428.0</td>\n",
       "      <td>1</td>\n",
       "      <td>0</td>\n",
       "    </tr>\n",
       "    <tr>\n",
       "      <th>2</th>\n",
       "      <td>80</td>\n",
       "      <td>2.67</td>\n",
       "      <td>15.0</td>\n",
       "      <td>0</td>\n",
       "      <td>1</td>\n",
       "      <td>78.2</td>\n",
       "      <td>1015.0</td>\n",
       "      <td>1</td>\n",
       "      <td>0</td>\n",
       "    </tr>\n",
       "    <tr>\n",
       "      <th>3</th>\n",
       "      <td>40</td>\n",
       "      <td>0.97</td>\n",
       "      <td>31.1</td>\n",
       "      <td>0</td>\n",
       "      <td>1</td>\n",
       "      <td>92.8</td>\n",
       "      <td>1276.0</td>\n",
       "      <td>1</td>\n",
       "      <td>0</td>\n",
       "    </tr>\n",
       "    <tr>\n",
       "      <th>4</th>\n",
       "      <td>43</td>\n",
       "      <td>2.05</td>\n",
       "      <td>22.8</td>\n",
       "      <td>1</td>\n",
       "      <td>1</td>\n",
       "      <td>62.2</td>\n",
       "      <td>1154.0</td>\n",
       "      <td>0</td>\n",
       "      <td>0</td>\n",
       "    </tr>\n",
       "  </tbody>\n",
       "</table>\n",
       "</div>"
      ],
      "text/plain": [
       "   Age  Creatinine_Level   BUN  Diabetes  Hypertension   GFR  Urine_Output  \\\n",
       "0   71              0.30  40.9         0             1  46.8        1622.0   \n",
       "1   34              1.79  17.1         0             0  43.8        1428.0   \n",
       "2   80              2.67  15.0         0             1  78.2        1015.0   \n",
       "3   40              0.97  31.1         0             1  92.8        1276.0   \n",
       "4   43              2.05  22.8         1             1  62.2        1154.0   \n",
       "\n",
       "   CKD_Status  Dialysis_Needed  \n",
       "0           1                0  \n",
       "1           1                0  \n",
       "2           1                0  \n",
       "3           1                0  \n",
       "4           0                0  "
      ]
     },
     "execution_count": 13,
     "metadata": {},
     "output_type": "execute_result"
    }
   ],
   "source": [
    "df.head()"
   ]
  },
  {
   "cell_type": "markdown",
   "metadata": {},
   "source": [
    "# Splitting "
   ]
  },
  {
   "cell_type": "code",
   "execution_count": 14,
   "metadata": {
    "execution": {
     "iopub.execute_input": "2025-07-29T07:09:58.850143Z",
     "iopub.status.busy": "2025-07-29T07:09:58.849776Z",
     "iopub.status.idle": "2025-07-29T07:09:58.870593Z",
     "shell.execute_reply": "2025-07-29T07:09:58.869561Z",
     "shell.execute_reply.started": "2025-07-29T07:09:58.850120Z"
    },
    "trusted": true
   },
   "outputs": [],
   "source": [
    "X = df.drop(\"Dialysis_Needed\",axis=1)\n",
    "y = df[\"Dialysis_Needed\"]"
   ]
  },
  {
   "cell_type": "code",
   "execution_count": 15,
   "metadata": {
    "execution": {
     "iopub.execute_input": "2025-07-29T07:09:58.873978Z",
     "iopub.status.busy": "2025-07-29T07:09:58.873640Z",
     "iopub.status.idle": "2025-07-29T07:09:58.894181Z",
     "shell.execute_reply": "2025-07-29T07:09:58.893300Z",
     "shell.execute_reply.started": "2025-07-29T07:09:58.873950Z"
    },
    "trusted": true
   },
   "outputs": [],
   "source": [
    "X_train, X_test, y_train, y_test = train_test_split(X, y, test_size=0.2, random_state=42)"
   ]
  },
  {
   "cell_type": "markdown",
   "metadata": {},
   "source": [
    "# Scaling "
   ]
  },
  {
   "cell_type": "code",
   "execution_count": 16,
   "metadata": {
    "execution": {
     "iopub.execute_input": "2025-07-29T07:09:58.895467Z",
     "iopub.status.busy": "2025-07-29T07:09:58.895103Z",
     "iopub.status.idle": "2025-07-29T07:09:58.920952Z",
     "shell.execute_reply": "2025-07-29T07:09:58.920192Z",
     "shell.execute_reply.started": "2025-07-29T07:09:58.895443Z"
    },
    "trusted": true
   },
   "outputs": [],
   "source": [
    "scaler = StandardScaler()\n",
    "\n",
    "X_train_scaled = scaler.fit_transform(X_train)\n",
    "X_test_scaled = scaler.transform(X_test)"
   ]
  },
  {
   "cell_type": "markdown",
   "metadata": {},
   "source": [
    "# Model Implementation "
   ]
  },
  {
   "cell_type": "code",
   "execution_count": 17,
   "metadata": {
    "execution": {
     "iopub.execute_input": "2025-07-29T07:09:58.922558Z",
     "iopub.status.busy": "2025-07-29T07:09:58.922227Z",
     "iopub.status.idle": "2025-07-29T07:09:58.932938Z",
     "shell.execute_reply": "2025-07-29T07:09:58.931885Z",
     "shell.execute_reply.started": "2025-07-29T07:09:58.922536Z"
    },
    "trusted": true
   },
   "outputs": [],
   "source": [
    "clf = DecisionTreeClassifier(random_state=42)\n",
    "clf.fit(X_train_scaled, y_train)\n",
    "\n",
    "y_pred = clf.predict(X_test_scaled)"
   ]
  },
  {
   "cell_type": "markdown",
   "metadata": {},
   "source": [
    "# Evaluation"
   ]
  },
  {
   "cell_type": "markdown",
   "metadata": {},
   "source": [
    "**METRICS**"
   ]
  },
  {
   "cell_type": "code",
   "execution_count": 18,
   "metadata": {
    "execution": {
     "iopub.execute_input": "2025-07-29T07:09:58.934252Z",
     "iopub.status.busy": "2025-07-29T07:09:58.934021Z",
     "iopub.status.idle": "2025-07-29T07:09:58.967724Z",
     "shell.execute_reply": "2025-07-29T07:09:58.966914Z",
     "shell.execute_reply.started": "2025-07-29T07:09:58.934234Z"
    },
    "trusted": true
   },
   "outputs": [
    {
     "name": "stdout",
     "output_type": "stream",
     "text": [
      "📌 Accuracy: 1.0\n",
      "📌 Precision (macro): 1.0\n",
      "📌 Recall (macro): 1.0\n",
      "📌 F1 Score (macro): 1.0\n",
      "\n",
      "📌 Classification Report:\n",
      "               precision    recall  f1-score   support\n",
      "\n",
      "           0       1.00      1.00      1.00       455\n",
      "           1       1.00      1.00      1.00         6\n",
      "\n",
      "    accuracy                           1.00       461\n",
      "   macro avg       1.00      1.00      1.00       461\n",
      "weighted avg       1.00      1.00      1.00       461\n",
      "\n"
     ]
    }
   ],
   "source": [
    "print(\"📌 Accuracy:\", accuracy_score(y_test, y_pred))\n",
    "print(\"📌 Precision (macro):\", precision_score(y_test, y_pred, average='macro'))\n",
    "print(\"📌 Recall (macro):\", recall_score(y_test, y_pred, average='macro'))\n",
    "print(\"📌 F1 Score (macro):\", f1_score(y_test, y_pred, average='macro'))\n",
    "print(\"\\n📌 Classification Report:\\n\", classification_report(y_test, y_pred))"
   ]
  },
  {
   "cell_type": "markdown",
   "metadata": {},
   "source": [
    "**CONFUSION MATRIX**"
   ]
  },
  {
   "cell_type": "code",
   "execution_count": 19,
   "metadata": {},
   "outputs": [
    {
     "data": {
      "image/png": "[encoded data removed]",
      "text/plain": [
       "<Figure size 800x600 with 2 Axes>"
      ]
     },
     "metadata": {},
     "output_type": "display_data"
    }
   ],
   "source": [
    "cm = confusion_matrix(y_test, y_pred)\n",
    "\n",
    "plt.figure(figsize=(8, 6))\n",
    "sns.heatmap(cm, annot=True, fmt=\"d\", cmap=\"Blues\", xticklabels=clf.classes_, yticklabels=clf.classes_)\n",
    "plt.title(\"Confusion Matrix\")\n",
    "plt.xlabel(\"Predicted Label\")\n",
    "plt.ylabel(\"True Label\")\n",
    "plt.show()"
   ]
  },
  {
   "cell_type": "markdown",
   "metadata": {},
   "source": [
    "**ROC CURVE**"
   ]
  },
  {
   "cell_type": "code",
   "execution_count": 20,
   "metadata": {
    "execution": {
     "iopub.execute_input": "2025-07-29T07:09:58.969113Z",
     "iopub.status.busy": "2025-07-29T07:09:58.968759Z",
     "iopub.status.idle": "2025-07-29T07:09:59.167576Z",
     "shell.execute_reply": "2025-07-29T07:09:59.166540Z",
     "shell.execute_reply.started": "2025-07-29T07:09:58.969090Z"
    },
    "trusted": true
   },
   "outputs": [
    {
     "name": "stdout",
     "output_type": "stream",
     "text": [
      "📌 ROC AUC Score: 1.0\n"
     ]
    },
    {
     "data": {
      "image/png": "[encoded data removed]",
      "text/plain": [
       "<Figure size 640x480 with 1 Axes>"
      ]
     },
     "metadata": {},
     "output_type": "display_data"
    }
   ],
   "source": [
    "y_pred_proba = clf.predict_proba(X_test_scaled)[:, 1]\n",
    "auc = roc_auc_score(y_test, y_pred_proba)\n",
    "fpr, tpr, _ = roc_curve(y_test, y_pred_proba)\n",
    "print(\"📌 ROC AUC Score:\", auc)\n",
    "    \n",
    "# Plot ROC Curve\n",
    "plt.figure()\n",
    "plt.plot(fpr, tpr, label=f'AUC = {auc:.2f}')\n",
    "plt.plot([0, 1], [0, 1], 'k--')\n",
    "plt.xlabel(\"False Positive Rate\")\n",
    "plt.ylabel(\"True Positive Rate\")\n",
    "plt.title(\"ROC Curve\")\n",
    "plt.legend()\n",
    "plt.grid()\n",
    "plt.show()  "
   ]
  }
 ],
 "metadata": {
  "kaggle": {
   "accelerator": "none",
   "dataSources": [
    {
     "datasetId": 7903318,
     "sourceId": 12520635,
     "sourceType": "datasetVersion"
    }
   ],
   "dockerImageVersionId": 31089,
   "isGpuEnabled": false,
   "isInternetEnabled": true,
   "language": "python",
   "sourceType": "notebook"
  },
  "kernelspec": {
   "display_name": "Python 3",
   "language": "python",
   "name": "python3"
  },
  "language_info": {
   "codemirror_mode": {
    "name": "ipython",
    "version": 3
   },
   "file_extension": ".py",
   "mimetype": "text/x-python",
   "name": "python",
   "nbconvert_exporter": "python",
   "pygments_lexer": "ipython3",
   "version": "3.13.0"
  }
 },
 "nbformat": 4,
 "nbformat_minor": 4
}
