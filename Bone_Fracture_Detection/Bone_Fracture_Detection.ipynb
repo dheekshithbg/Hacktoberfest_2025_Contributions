{
 "cells": [
  {
   "cell_type": "markdown",
   "metadata": {},
   "source": [
    "# BONE FRACTURE DETECTION "
   ]
  },
  {
   "cell_type": "code",
   "execution_count": null,
   "metadata": {},
   "outputs": [],
   "source": [
    "# Import Libraries\n",
    "import os\n",
    "import shutil\n",
    "import random\n",
    "import numpy as np\n",
    "from tqdm import tqdm\n",
    "import tensorflow as tf\n",
    "from tensorflow.keras.preprocessing.image import ImageDataGenerator\n",
    "from tensorflow.keras.applications import VGG16\n",
    "from tensorflow.keras.models import Model\n",
    "from tensorflow.keras.layers import Dense, GlobalAveragePooling2D, Dropout, Flatten\n",
    "from tensorflow.keras.optimizers import Adam\n",
    "from tensorflow.keras.callbacks import EarlyStopping, ModelCheckpoint\n",
    "from sklearn.metrics import confusion_matrix, classification_report"
   ]
  },
  {
   "cell_type": "code",
   "execution_count": null,
   "metadata": {},
   "outputs": [],
   "source": [
    "# Create a Balanced Dataset\n",
    "original_dataset_dir = r\"/kaggle/input/bone-fracture-dataset/Bone fracture dataset/Bone fracture dataset/Dataset\"\n",
    "balanced_dataset_dir = r\"./balanced_dataset\"\n",
    "os.makedirs(balanced_dataset_dir, exist_ok=True)\n",
    "\n",
    "classes = [\"fracture\", \"normal\"]\n",
    "for cls in classes:\n",
    "    os.makedirs(os.path.join(balanced_dataset_dir, cls), exist_ok=True)"
   ]
  },
  {
   "cell_type": "code",
   "execution_count": null,
   "metadata": {},
   "outputs": [],
   "source": [
    "# Count images and balance\n",
    "majority_class = max(classes, key=lambda x: len(os.listdir(os.path.join(original_dataset_dir, x))))\n",
    "minority_class = min(classes, key=lambda x: len(os.listdir(os.path.join(original_dataset_dir, x))))\n",
    "majority_count = len(os.listdir(os.path.join(original_dataset_dir, majority_class)))\n",
    "minority_count = len(os.listdir(os.path.join(original_dataset_dir, minority_class)))\n",
    "\n",
    "print(f\"Majority ({majority_class}): {majority_count}\")\n",
    "print(f\"Minority ({minority_class}): {minority_count}\")"
   ]
  },
  {
   "cell_type": "code",
   "execution_count": null,
   "metadata": {},
   "outputs": [],
   "source": [
    "# Copy images\n",
    "for cls in classes:\n",
    "    src_dir = os.path.join(original_dataset_dir, cls)\n",
    "    dst_dir = os.path.join(balanced_dataset_dir, cls)\n",
    "    for img_name in os.listdir(src_dir):\n",
    "        shutil.copy(os.path.join(src_dir, img_name), dst_dir)"
   ]
  },
  {
   "cell_type": "code",
   "execution_count": null,
   "metadata": {},
   "outputs": [],
   "source": [
    "# Downscale majority class\n",
    "majority_dir = os.path.join(balanced_dataset_dir, majority_class)\n",
    "all_majority_imgs = os.listdir(majority_dir)\n",
    "if len(all_majority_imgs) > minority_count:\n",
    "    to_remove = random.sample(all_majority_imgs, len(all_majority_imgs) - minority_count)\n",
    "    for img_name in to_remove:\n",
    "        os.remove(os.path.join(majority_dir, img_name))\n",
    "\n",
    "print(f\"Balanced dataset created at '{balanced_dataset_dir}'\")"
   ]
  },
  {
   "cell_type": "code",
   "execution_count": null,
   "metadata": {},
   "outputs": [],
   "source": [
    "# Prepare ImageDataGenerators\n",
    "# -----------------------------\n",
    "IMG_SIZE = (224, 224)\n",
    "BATCH_SIZE = 16\n",
    "\n",
    "train_datagen = ImageDataGenerator(\n",
    "    rescale=1./255,\n",
    "    rotation_range=20,\n",
    "    width_shift_range=0.1,\n",
    "    height_shift_range=0.1,\n",
    "    zoom_range=0.1,\n",
    "    horizontal_flip=True,\n",
    "    fill_mode='nearest'\n",
    ")\n",
    "\n",
    "val_test_datagen = ImageDataGenerator(rescale=1./255)\n",
    "\n",
    "train_generator = train_datagen.flow_from_directory(\n",
    "    \"dataset/train\",\n",
    "    target_size=IMG_SIZE,\n",
    "    batch_size=BATCH_SIZE,\n",
    "    class_mode='binary'\n",
    ")\n",
    "\n",
    "val_generator = val_test_datagen.flow_from_directory(\n",
    "    \"dataset/val\",\n",
    "    target_size=IMG_SIZE,\n",
    "    batch_size=BATCH_SIZE,\n",
    "    class_mode='binary'\n",
    ")"
   ]
  },
  {
   "cell_type": "code",
   "execution_count": null,
   "metadata": {},
   "outputs": [],
   "source": [
    "# Build Model (VGG16 Transfer Learning)\n",
    "# -----------------------------\n",
    "base_model = VGG16(weights='imagenet', include_top=False, input_shape=(IMG_SIZE[0], IMG_SIZE[1], 3))\n",
    "base_model.trainable = False  # Freeze base model initially\n",
    "\n",
    "x = base_model.output\n",
    "x = Flatten()(x)  # VGG16 works better with Flatten\n",
    "x = Dense(512, activation='relu')(x)\n",
    "x = Dropout(0.5)(x)\n",
    "output = Dense(1, activation='sigmoid')(x)\n",
    "\n",
    "model = Model(inputs=base_model.input, outputs=output)\n",
    "\n",
    "model.compile(optimizer=Adam(learning_rate=1e-4),\n",
    "              loss='binary_crossentropy',\n",
    "              metrics=['accuracy'])\n",
    "\n",
    "model.summary()"
   ]
  },
  {
   "cell_type": "code",
   "execution_count": null,
   "metadata": {},
   "outputs": [],
   "source": [
    "# Callbacks\n",
    "early_stop = EarlyStopping(monitor='val_loss', patience=5, restore_best_weights=True)\n",
    "checkpoint = ModelCheckpoint(\"best_vgg16_model.h5\", monitor='val_loss', save_best_only=True)"
   ]
  },
  {
   "cell_type": "code",
   "execution_count": null,
   "metadata": {},
   "outputs": [],
   "source": [
    "# Train Model\n",
    "history = model.fit(\n",
    "    train_generator,\n",
    "    validation_data=val_generator,\n",
    "    epochs=20,\n",
    "    callbacks=[early_stop, checkpoint]\n",
    ")"
   ]
  },
  {
   "cell_type": "code",
   "execution_count": null,
   "metadata": {},
   "outputs": [],
   "source": [
    "# Fine-Tune Base Model (Optional)\n",
    "# Unfreeze some layers for better performance\n",
    "base_model.trainable = True\n",
    "for layer in base_model.layers[:-4]:  # Freeze first layers, train last 4 conv blocks\n",
    "    layer.trainable = False\n",
    "\n",
    "model.compile(optimizer=Adam(1e-5),\n",
    "              loss='binary_crossentropy',\n",
    "              metrics=['accuracy'])\n",
    "\n",
    "history_finetune = model.fit(\n",
    "    train_generator,\n",
    "    validation_data=val_generator,\n",
    "    epochs=10,\n",
    "    callbacks=[early_stop, checkpoint]\n",
    ")"
   ]
  },
  {
   "cell_type": "code",
   "execution_count": null,
   "metadata": {},
   "outputs": [],
   "source": [
    "# Evaluate on Test Set\n",
    "test_generator = val_test_datagen.flow_from_directory(\n",
    "    \"dataset/test\",\n",
    "    target_size=IMG_SIZE,\n",
    "    batch_size=BATCH_SIZE,\n",
    "    class_mode='binary',\n",
    "    shuffle=False\n",
    ")\n",
    "\n",
    "loss, accuracy = model.evaluate(test_generator)\n",
    "print(f\"Test Accuracy: {accuracy*100:.2f}%\")"
   ]
  },
  {
   "cell_type": "code",
   "execution_count": null,
   "metadata": {
    "execution": {
     "iopub.execute_input": "2025-10-04T15:44:46.094305Z",
     "iopub.status.busy": "2025-10-04T15:44:46.093568Z",
     "iopub.status.idle": "2025-10-04T15:51:19.117772Z",
     "shell.execute_reply": "2025-10-04T15:51:19.116930Z",
     "shell.execute_reply.started": "2025-10-04T15:44:46.094279Z"
    },
    "trusted": true
   },
   "outputs": [],
   "source": [
    "# Confusion Matrix and Classification Report\n",
    "y_pred = model.predict(test_generator)\n",
    "y_pred_classes = np.where(y_pred > 0.5, 1, 0)\n",
    "y_true = test_generator.classes\n",
    "\n",
    "print(\"Confusion Matrix:\")\n",
    "print(confusion_matrix(y_true, y_pred_classes))\n",
    "print(\"\\nClassification Report:\")\n",
    "print(classification_report(y_true, y_pred_classes, target_names=classes))"
   ]
  }
 ],
 "metadata": {
  "kaggle": {
   "accelerator": "nvidiaTeslaT4",
   "dataSources": [
    {
     "datasetId": 7025735,
     "sourceId": 11339442,
     "sourceType": "datasetVersion"
    }
   ],
   "dockerImageVersionId": 31090,
   "isGpuEnabled": true,
   "isInternetEnabled": true,
   "language": "python",
   "sourceType": "notebook"
  },
  "kernelspec": {
   "display_name": "Python 3",
   "language": "python",
   "name": "python3"
  },
  "language_info": {
   "codemirror_mode": {
    "name": "ipython",
    "version": 3
   },
   "file_extension": ".py",
   "mimetype": "text/x-python",
   "name": "python",
   "nbconvert_exporter": "python",
   "pygments_lexer": "ipython3",
   "version": "3.12.0"
  }
 },
 "nbformat": 4,
 "nbformat_minor": 4
}
